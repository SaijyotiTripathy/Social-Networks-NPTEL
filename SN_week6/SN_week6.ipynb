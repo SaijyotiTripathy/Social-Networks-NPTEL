{
  "nbformat": 4,
  "nbformat_minor": 0,
  "metadata": {
    "colab": {
      "provenance": []
    },
    "kernelspec": {
      "name": "python3",
      "display_name": "Python 3"
    },
    "language_info": {
      "name": "python"
    }
  },
  "cells": [
    {
      "cell_type": "markdown",
      "source": [
        "* ### Web Graph - A directed graph, whose nodes correspond to the pages of the WWW, and a directed edge connects page X to page Y if there exists a hyperlink on page X, referring to page Y."
      ],
      "metadata": {
        "id": "FigaZhhXEPLb"
      }
    },
    {
      "cell_type": "markdown",
      "source": [
        "### 1. Collect the web graph\n",
        "* #### Random Walk\n",
        "\n",
        "### 2. Use the web graph to solve the search problem"
      ],
      "metadata": {
        "id": "YN8Ob30qQBwS"
      }
    },
    {
      "cell_type": "markdown",
      "source": [
        "* ### Ranking the nodes\n",
        "#### 1. Equal Coin Distribution\n",
        "#### 2. Random Walk Coin Distribution"
      ],
      "metadata": {
        "id": "09Z6mR-PTFmN"
      }
    },
    {
      "cell_type": "markdown",
      "source": [
        "### 1. Equal Coin Distribution\n",
        "* #### 100 goldcoins given to 30 people each. In each iteration, all people distribute their goldcoins among their neighbors.(Directed graph is considered here). After x iterations, the graph converges. There is a stage after which the goldcoins accumulates and never changes. The node having maximum goldcoins is the most important node in the graph. The node having second maximum goldcoins is the second most important node in the graph and so on."
      ],
      "metadata": {
        "id": "81Uav-I4RmkM"
      }
    },
    {
      "cell_type": "markdown",
      "source": [
        "### 2. Random Walk Coin Distribution\n",
        "* #### Some goldcoins are given to x people each. In each iteration, each person randomly jumps to another node among their neighbor nodes and drops a goldcoin at that node. After x iterations, we can see that the node having maximum goldcoins is the most important node in the graph. The node having second maximum goldcoins is the second most important node in the graph and so on.\n",
        "* #### In a random graph with n nodes, the number of nodes to be traversed in order to to visit all nodes in a random walk as observed in the experiment is approximately (n log n)\n",
        "* #### Teleportation - Choosing a node uniformly at random in a graph\n"
      ],
      "metadata": {
        "id": "wUg3HN_0S_xb"
      }
    },
    {
      "cell_type": "markdown",
      "source": [
        "* ### The answer of Random Walk Coin Distribution will be same as Equal Coin Distribution.\n",
        "\n",
        "* ### Equal Sharing ~ Random dropping\n",
        "\n",
        "* ### For a node to accumulate lot of goldcoins it should be pointed by nodes having a lot of goldcoins and they shouldn't point to lot of nodes."
      ],
      "metadata": {
        "id": "kShLiy7bWGCz"
      }
    },
    {
      "cell_type": "markdown",
      "source": [
        "* ### Google Page Ranking Using Web Graph\n",
        "#### PageRank works by counting the number and quality of links to a page to determine a rough estimate of how important the website is. The underlying assumption is that more important websites are likely to receive more links from other websites."
      ],
      "metadata": {
        "id": "V5-lNWt17KJ2"
      }
    },
    {
      "cell_type": "markdown",
      "source": [
        "* ### Indegree and PageRank values are not correlated with eachothers in case of citation network."
      ],
      "metadata": {
        "id": "_XD52IuH0Nrn"
      }
    },
    {
      "cell_type": "markdown",
      "source": [
        "## Random Walk"
      ],
      "metadata": {
        "id": "fE7V1NBaN_Gs"
      }
    },
    {
      "cell_type": "code",
      "execution_count": 1,
      "metadata": {
        "id": "nq7bSMdaC74H"
      },
      "outputs": [],
      "source": [
        "import random\n",
        "import matplotlib.pyplot as plt\n",
        "import networkx as nx\n",
        "import numpy as np"
      ]
    },
    {
      "cell_type": "code",
      "source": [
        "def walk(n,p):\n",
        "  start= random.randint(0,n-1)\n",
        "  G= nx.erdos_renyi_graph(n,p)\n",
        "  S= set()\n",
        "  v= start\n",
        "  count=0\n",
        "\n",
        "  while len(S)<n:\n",
        "    Nbr= list(nx.neighbors(G,v))\n",
        "    v= random.choice(Nbr)\n",
        "    S.add(v)\n",
        "    count= count+1\n",
        "  \n",
        "  return count\n",
        "\n",
        "# Number of random walks taken to cover the entire graph where number of nodes= i\n",
        "l=[]\n",
        "for i in range(20,300):\n",
        "  z=[]\n",
        "  for j in range(10):\n",
        "    z.append(walk(i,0.3))\n",
        "  l.append(np.average(z))\n",
        "  #print(i,\"-->\",l[-1])\n",
        "\n",
        "plt.plot(l)\n",
        "plt.show()"
      ],
      "metadata": {
        "colab": {
          "base_uri": "https://localhost:8080/",
          "height": 265
        },
        "id": "wy56QTV2OKtY",
        "outputId": "0096f63a-582b-4821-9f57-fb0d55c1a68e"
      },
      "execution_count": null,
      "outputs": [
        {
          "output_type": "display_data",
          "data": {
            "text/plain": [
              "<Figure size 432x288 with 1 Axes>"
            ],
            "image/png": "[encoded data removed]"
          },
          "metadata": {
            "needs_background": "light"
          }
        }
      ]
    },
    {
      "cell_type": "markdown",
      "source": [
        "## Page Rank Using Points Distribution Method"
      ],
      "metadata": {
        "id": "PtiTb6um8PBA"
      }
    },
    {
      "cell_type": "markdown",
      "source": [
        "\n",
        "1. Create/Take a directed graph with 'n' nodes\n",
        "\n",
        "2. Assign 100 points to each node\n",
        "  points= initialize_points(G)\n",
        "\n",
        "3. Keep distributing points until convergence\n",
        "\n",
        "4. Get nodes' ranking as per the points accumulated\n",
        "\n",
        "5. Compare the ranks thus obtained with the ranks obtained from the inbuilt Page Rank method.\n"
      ],
      "metadata": {
        "id": "cGaaRrqCyFvd"
      }
    },
    {
      "cell_type": "code",
      "source": [
        "def add_edges(G, p):\n",
        "  for i in G.nodes():\n",
        "    for j in G.nodes():\n",
        "      if i!=j:\n",
        "        r= random.random()\n",
        "        if r<=p:\n",
        "          G.add_edge(i,j)\n",
        "        else:\n",
        "          continue\n",
        "  return G\n",
        "\n",
        "def initialize_points(G):\n",
        "  points= [100 for i in range(G.number_of_nodes())]\n",
        "  return points\n",
        "\n",
        "def distribute_points(G, points):\n",
        "  prev_points= points\n",
        "  new_points= [0 for i in range(G.number_of_nodes())]\n",
        "\n",
        "  for i in G.nodes():\n",
        "    out= G.out_edges(i)\n",
        "    if len(out)==0:\n",
        "      new_points[i]+= prev_points[i]\n",
        "    else:\n",
        "      share= (float)(prev_points[i])/len(out)\n",
        "      for each in out:\n",
        "        new_points[each[1]]+= share\n",
        "        \n",
        "  return G, new_points\n",
        "\n",
        "def keep_distributing_points(G,points):\n",
        "  prev_points= points\n",
        "  print(\"Enter # to stop\")\n",
        "  while(1):\n",
        "    G, new_points= distribute_points(G, prev_points)\n",
        "    print(new_points)\n",
        "\n",
        "    char= input()\n",
        "    if char==\"#\":\n",
        "      break\n",
        "    \n",
        "    prev_points= new_points\n",
        "  return G, new_points\n",
        "\n",
        "def get_nodes_sorted_by_points(points):\n",
        "  points_array= np.array(points)\n",
        "  nodes_sorted_by_points= np.argsort(-points_array)\n",
        "  return nodes_sorted_by_points"
      ],
      "metadata": {
        "id": "ShXPLFyPW0ml"
      },
      "execution_count": null,
      "outputs": []
    },
    {
      "cell_type": "code",
      "source": [
        "def main():\n",
        "  # 1. Create/Take a directed graph with 'n' nodes\n",
        "  G= nx.DiGraph()\n",
        "  G.add_nodes_from([i for i in range(10)])\n",
        "  G= add_edges(G, 0.3)\n",
        "\n",
        "  # 2. Assign 100 points to each node\n",
        "  points= initialize_points(G)\n",
        "\n",
        "  # 3. Keep distributing points until convergence\n",
        "  G, points= keep_distributing_points(G,points)\n",
        "\n",
        "  # 4. Get nodes' ranking as per the points accumulated\n",
        "  nodes_sorted_by_points= get_nodes_sorted_by_points(points)\n",
        "  print(\"Nodes_sorted_by_points : \",nodes_sorted_by_points)\n",
        "\n",
        "  # 5. Compare the ranks thus obtained with the ranks obtained from the inbuilt Page Rank method.\n",
        "  pr= nx.pagerank(G)\n",
        "  pr_sorted= sorted(pr.items(), key= lambda x:x[1], reverse= True)\n",
        "  for i in pr_sorted:\n",
        "    print(i[0], end=\" \")"
      ],
      "metadata": {
        "id": "-456s-BnO9XZ"
      },
      "execution_count": null,
      "outputs": []
    },
    {
      "cell_type": "code",
      "source": [
        "main()"
      ],
      "metadata": {
        "colab": {
          "base_uri": "https://localhost:8080/"
        },
        "id": "BHod-PPSA2lf",
        "outputId": "5f0b134e-dfa6-4fd8-987f-cefcff96c102"
      },
      "execution_count": null,
      "outputs": [
        {
          "output_type": "stream",
          "name": "stdout",
          "text": [
            "Enter # to stop\n",
            "[33.333333333333336, 100.0, 125.0, 25.0, 50.0, 208.33333333333334, 0, 100.0, 258.33333333333337, 100.0]\n",
            "\n",
            "[33.333333333333336, 191.66666666666669, 112.5, 8.333333333333334, 12.5, 154.16666666666666, 0, 154.16666666666669, 204.16666666666666, 129.16666666666669]\n",
            "\n",
            "[51.38888888888889, 158.33333333333331, 85.41666666666666, 8.333333333333334, 4.166666666666667, 255.55555555555557, 0, 108.33333333333333, 245.1388888888889, 83.33333333333333]\n",
            "\n",
            "[36.11111111111111, 165.27777777777777, 140.625, 12.847222222222223, 4.166666666666667, 211.45833333333331, 0, 124.65277777777779, 175.0, 129.86111111111111]\n",
            "\n",
            "[41.55092592592593, 157.8125, 114.75694444444443, 9.027777777777777, 6.423611111111112, 222.28009259259258, 0, 89.58333333333333, 250.7523148148148, 107.81249999999999]\n",
            "\n",
            "[29.86111111111111, 182.75462962962962, 121.52777777777777, 10.387731481481483, 4.513888888888888, 202.5752314814815, 0, 128.58796296296296, 205.43981481481478, 114.35185185185185]\n",
            "\n",
            "[42.86265432098765, 163.48379629629628, 108.75289351851852, 7.465277777777778, 5.193865740740741, 238.27642746913577, 0, 104.97685185185183, 225.44367283950615, 103.54456018518519]\n",
            "\n",
            "[34.99228395061728, 167.09828317901233, 129.8538773148148, 10.715663580246913, 3.732638888888889, 212.92438271604937, 0, 115.31876929012344, 203.62895447530866, 121.73514660493825]\n",
            "\n",
            "[38.43958976337448, 166.74141589506172, 115.210262345679, 8.74807098765432, 5.3578317901234565, 219.6437757201646, 0, 103.68079668209877, 233.84974601337444, 108.32851080246913]\n",
            "\n",
            "[34.56026556069959, 174.5300041795267, 119.43178530092592, 9.60989744084362, 4.37403549382716, 215.2856143904321, 0, 119.60378890174896, 210.10380497685185, 112.50080375514403]\n",
            "#\n",
            "Nodes_sorted_by_points :  [5 8 1 7 2 9 0 3 4 6]\n",
            "8 5 1 2 7 9 0 4 3 6 "
          ]
        }
      ]
    },
    {
      "cell_type": "markdown",
      "source": [
        "#### Our page rank value and networkx value may not be same due to following problems :\n",
        "#### 1. Due to point sync - In the graph we generated, there may be a set of nodes having no outlinks. They tend to accumulate all the points. Due to which the ranking may not be accurate. But the networkx function handles these cases with accuracy.\n",
        "#### 2. Two or mode nodes having exactly same page rank values."
      ],
      "metadata": {
        "id": "rjFfnF3kSeIz"
      }
    },
    {
      "cell_type": "markdown",
      "source": [
        "#### Solution to problem 1 : After every iteration, gather a fraction of points(20%) from each node and then distribute them equally among all nodes."
      ],
      "metadata": {
        "id": "UkyfQUaPXeEq"
      }
    },
    {
      "cell_type": "code",
      "source": [
        "def add_edges(G, p):\n",
        "  for i in G.nodes():\n",
        "    for j in G.nodes():\n",
        "      if i!=j:\n",
        "        r= random.random()\n",
        "        if r<=p:\n",
        "          G.add_edge(i,j)\n",
        "        else:\n",
        "          continue\n",
        "  return G\n",
        "\n",
        "def initialize_points(G):\n",
        "  points= [100 for i in range(G.number_of_nodes())]\n",
        "  return points\n",
        "\n",
        "def distribute_points(G, points):\n",
        "  prev_points= points\n",
        "  new_points= [0 for i in range(G.number_of_nodes())]\n",
        "\n",
        "  for i in G.nodes():\n",
        "    out= G.out_edges(i)\n",
        "    if len(out)==0:\n",
        "      new_points[i]+= prev_points[i]\n",
        "    else:\n",
        "      share= (float)(prev_points[i])/len(out)\n",
        "      for each in out:\n",
        "        new_points[each[1]]+= share\n",
        "        \n",
        "  return G, new_points\n",
        "\n",
        "def handle_points_sink(G, points):\n",
        "  for i in range(len(points)):\n",
        "    points[i]= (float)(points[i])*0.8\n",
        "\n",
        "  n= G.number_of_nodes()\n",
        "  extra= ((float)(n)*100*0.2)/n\n",
        "\n",
        "  for i in range(len(points)):\n",
        "    points[i]+= extra\n",
        "    \n",
        "  return points\n",
        "\n",
        "def keep_distributing_points(G,points):\n",
        "  prev_points= points\n",
        "  print(\"Enter # to stop\")\n",
        "  while(1):\n",
        "    G, new_points= distribute_points(G, prev_points)\n",
        "    print(new_points)\n",
        "\n",
        "    new_points= handle_points_sink(G, new_points)\n",
        "\n",
        "    char= input()\n",
        "    if char==\"#\":\n",
        "      break\n",
        "    \n",
        "    prev_points= new_points\n",
        "  return G, new_points\n",
        "\n",
        "def get_nodes_sorted_by_points(points):\n",
        "  points_array= np.array(points)\n",
        "  nodes_sorted_by_points= np.argsort(-points_array)\n",
        "  return nodes_sorted_by_points"
      ],
      "metadata": {
        "id": "4fKIROalWTrO"
      },
      "execution_count": null,
      "outputs": []
    },
    {
      "cell_type": "code",
      "source": [
        "def main():\n",
        "  # 1. Create/Take a directed graph with 'n' nodes\n",
        "  G= nx.DiGraph()\n",
        "  G.add_nodes_from([i for i in range(10)])\n",
        "  G= add_edges(G, 0.3)\n",
        "\n",
        "  # 2. Assign 100 points to each node\n",
        "  points= initialize_points(G)\n",
        "\n",
        "  # 3. Keep distributing points until convergence\n",
        "  G, points= keep_distributing_points(G,points)\n",
        "\n",
        "  # 4. Get nodes' ranking as per the points accumulated\n",
        "  nodes_sorted_by_points= get_nodes_sorted_by_points(points)\n",
        "  print(\"Nodes_sorted_by_points : \",nodes_sorted_by_points)\n",
        "\n",
        "  # 5. Compare the ranks thus obtained with the ranks obtained from the inbuilt Page Rank method.\n",
        "  pr= nx.pagerank(G)\n",
        "  pr_sorted= sorted(pr.items(), key= lambda x:x[1], reverse= True)\n",
        "  for i in pr_sorted:\n",
        "    print(i[0], end=\" \")"
      ],
      "metadata": {
        "id": "k9JZUbKEA4OL"
      },
      "execution_count": null,
      "outputs": []
    },
    {
      "cell_type": "code",
      "source": [
        "main()"
      ],
      "metadata": {
        "colab": {
          "base_uri": "https://localhost:8080/"
        },
        "id": "RFqFVJCYVnGL",
        "outputId": "55b7165e-cd2c-4702-ecc6-18d56c2e3ed8"
      },
      "execution_count": null,
      "outputs": [
        {
          "output_type": "stream",
          "name": "stdout",
          "text": [
            "Enter # to stop\n",
            "[83.33333333333334, 100.0, 0, 83.33333333333334, 166.66666666666669, 33.333333333333336, 83.33333333333334, 133.33333333333334, 166.66666666666669, 150.0]\n",
            "\n",
            "[98.88888888888889, 46.66666666666667, 0, 78.88888888888889, 144.44444444444446, 28.88888888888889, 105.55555555555556, 108.88888888888889, 197.7777777777778, 190.0]\n",
            "\n",
            "[113.70370370370371, 43.111111111111114, 0, 61.70370370370371, 166.962962962963, 34.81481481481482, 116.81481481481484, 123.70370370370371, 189.18518518518522, 150.0]\n",
            "\n",
            "[93.12098765432098, 47.851851851851855, 0, 64.23209876543211, 170.47901234567905, 37.81728395061729, 108.79506172839507, 103.12098765432098, 211.07160493827163, 163.51111111111115]\n",
            "\n",
            "[99.19967078189303, 50.25382716049383, 0, 60.639670781893, 171.60625514403296, 35.67868312757202, 118.22386831275723, 109.19967078189303, 196.6176131687243, 158.58074074074077]\n",
            "\n",
            "[96.26954183813443, 48.54294650205762, 0, 63.22144307270234, 169.9599890260631, 38.193031550068596, 111.48429080932785, 106.26954183813443, 203.63531412894378, 162.42390123456792]\n",
            "\n",
            "[98.4952786465478, 50.55442524005488, 0, 61.755723090992234, 170.18848102423414, 36.39581088248743, 114.97984380429814, 108.4952786465478, 199.22616771833566, 159.9089909465021]\n",
            "\n",
            "[97.0984558695321, 49.116648705989945, 0, 63.15384440176804, 169.95049974089318, 37.32795834781284, 112.82532657826553, 107.0984558695321, 201.7335365218717, 161.69527396433475]\n",
            "\n",
            "[98.18580142620539, 49.86236667825027, 0, 62.206247714271214, 170.00642326149475, 36.75342042087081, 114.20110644922018, 108.18580142620539, 200.13259089691616, 160.4662417265661]\n",
            "\n",
            "[97.44149608109876, 49.40273633669665, 0, 62.794493718288216, 170.02287845887994, 37.12029505312538, 113.30803574923878, 107.44149608109876, 201.24673197519354, 161.22183654638016]\n",
            "\n",
            "[97.9005996100956, 49.6962360425003, 0, 62.412160156305, 170.03190127816742, 36.882142866463674, 113.91055778162095, 107.9005996100956, 200.5189583040815, 160.74684435067016]\n",
            "\n",
            "[97.60864711528274, 49.50571429317094, 0, 62.65198764635895, 170.02389195942368, 37.042815408432254, 113.51749269664728, 107.60864711528274, 200.9893089930963, 161.05149477230535]\n",
            "\n",
            "[97.79446128128453, 49.63425232674581, 0, 62.49792494801044, 170.02936088041986, 36.937998052439276, 113.76958696960091, 107.79446128128453, 200.68665291306388, 160.85530134715094]\n",
            "\n",
            "[97.6749005249965, 49.55039844195142, 0, 62.59889060570753, 170.02507403212834, 37.00522319189358, 113.60744115136167, 107.6749005249965, 200.87994173158455, 160.98322979538008]\n",
            "\n",
            "[97.75299607967403, 49.60417855351486, 0, 62.53346618344631, 170.02726780632935, 36.96198430702978, 113.71168085415583, 107.75299607967403, 200.75528093654546, 160.9001491996305]\n",
            "\n",
            "[97.70231732877122, 49.569587445623824, 0, 62.575803709319025, 170.0260262236395, 36.989781561108224, 113.6443700235372, 107.70231732877122, 200.83601940342268, 160.95377697580733]\n",
            "\n",
            "[97.73505844614134, 49.59182524888658, 0, 62.54845293258852, 170.02685772198467, 36.97183200627659, 113.68795541718748, 107.73505844614134, 200.78378738157986, 160.9191723992138]\n",
            "#\n",
            "Nodes_sorted_by_points :  [8 4 9 6 7 0 3 1 5 2]\n",
            "8 4 9 6 7 0 3 1 5 2 "
          ]
        }
      ]
    },
    {
      "cell_type": "markdown",
      "source": [
        "## Page Rank Using Random Walk Method"
      ],
      "metadata": {
        "id": "u_k43f5LYP8O"
      }
    },
    {
      "cell_type": "markdown",
      "source": [
        "1. Create/Take a directed graph.\n",
        "2. Perform a random walk.\n",
        "3. Get sorted nodes as per points accumulated during random walk.\n",
        "4. Compare with the inbuilt Page Rank method."
      ],
      "metadata": {
        "id": "7rsySWsxZBcS"
      }
    },
    {
      "cell_type": "code",
      "source": [
        "def add_edges(G, p):\n",
        "  for i in G.nodes():\n",
        "    for j in G.nodes():\n",
        "      if i!=j:\n",
        "        r= random.random()\n",
        "        if r<=p:\n",
        "          G.add_edge(i,j)\n",
        "        else:\n",
        "          continue\n",
        "  return G\n",
        "\n",
        "def random_walk(G):\n",
        "  nodes= list(G.nodes())\n",
        "  RW_points= [0 for i in range(G.number_of_nodes())]\n",
        "  r= random.choice(nodes)\n",
        "  RW_points[r]+=1\n",
        "  out= list(G.out_edges(r))\n",
        "  \n",
        "  c=0\n",
        "  while(c!=100000):\n",
        "    if len(out)==0:\n",
        "      focus= random.choice(nodes)\n",
        "    else:\n",
        "      r1= random.choice(out)\n",
        "      focus= list(r1)[1]\n",
        "    \n",
        "    RW_points[focus]+=1\n",
        "    out= list(G.out_edges(focus))\n",
        "    c+=1\n",
        "  return RW_points\n",
        "\n",
        "def get_nodes_sorted_by_RW(RW_points):\n",
        "  RW_points_array= np.array(RW_points)\n",
        "  nodes_sorted_by_RW= np.argsort(-RW_points_array)\n",
        "  return nodes_sorted_by_RW"
      ],
      "metadata": {
        "id": "mU37jr-aYRvU"
      },
      "execution_count": 90,
      "outputs": []
    },
    {
      "cell_type": "code",
      "source": [
        "def main():\n",
        "  # 1. Create/Take a directed graph with 'n' nodes\n",
        "  G= nx.DiGraph()\n",
        "  G.add_nodes_from([i for i in range(10)])\n",
        "  G= add_edges(G, 0.3)\n",
        "\n",
        "  # 2. Perform a random walk.\n",
        "  RW_points= random_walk(G)\n",
        "\n",
        "  # 3. Get sorted nodes as per points accumulated during random walk.\n",
        "  nodes_sorted_by_RW= get_nodes_sorted_by_RW(RW_points)\n",
        "  print(\"Nodes_sorted_by_random_walk : \",nodes_sorted_by_RW)\n",
        "\n",
        "  # 4. Compare with the inbuilt Page Rank method.\n",
        "  pr= nx.pagerank(G)\n",
        "  pr_sorted= sorted(pr.items(), key= lambda x:x[1], reverse= True)\n",
        "  for i in pr_sorted:\n",
        "    print(i[0], end=\" \")"
      ],
      "metadata": {
        "id": "6KsrszFeqwwq"
      },
      "execution_count": 93,
      "outputs": []
    },
    {
      "cell_type": "code",
      "source": [
        "main()"
      ],
      "metadata": {
        "colab": {
          "base_uri": "https://localhost:8080/"
        },
        "id": "fnUrdxVbsYQe",
        "outputId": "70a3956d-7ad9-4008-e1dc-4173317a1388"
      },
      "execution_count": 94,
      "outputs": [
        {
          "output_type": "stream",
          "name": "stdout",
          "text": [
            "Nodes_sorted_by_random_walk :  [5 6 1 2 9 8 3 4 0 7]\n",
            "5 6 1 2 9 8 3 4 0 7 "
          ]
        }
      ]
    },
    {
      "cell_type": "markdown",
      "source": [
        "## DegreeRank versus PageRank"
      ],
      "metadata": {
        "id": "45A-C553zLzF"
      }
    },
    {
      "cell_type": "code",
      "source": [
        "def main():\n",
        "  G= nx.read_edgelist(\"citation.txt\", create_using= nx.DiGraph())\n",
        "\n",
        "  deg= dict(G.in_degree())\n",
        "  pr= nx.pagerank(G)\n",
        "\n",
        "  pr_values= []\n",
        "\n",
        "  for i in deg.keys():\n",
        "    pr_values.append(pr[i])\n",
        "  \n",
        "  plt.plot(deg.values(), pr_values, 'bo', markersize= 2)\n",
        "  plt.xlabel(\"Indegree of the nodes\")\n",
        "  plt.ylabel(\"Page Rank values of the nodes\")\n",
        "\n",
        "  plt.show()"
      ],
      "metadata": {
        "id": "GS7TnB95tqfn"
      },
      "execution_count": 107,
      "outputs": []
    },
    {
      "cell_type": "code",
      "source": [
        "main()"
      ],
      "metadata": {
        "colab": {
          "base_uri": "https://localhost:8080/",
          "height": 279
        },
        "id": "8Sh3kr14z56_",
        "outputId": "f2504c2a-b084-402a-ed33-f06c77ef809e"
      },
      "execution_count": 108,
      "outputs": [
        {
          "output_type": "display_data",
          "data": {
            "text/plain": [
              "<Figure size 432x288 with 1 Axes>"
            ],
            "image/png": "[encoded data removed]"
          },
          "metadata": {
            "needs_background": "light"
          }
        }
      ]
    },
    {
      "cell_type": "markdown",
      "source": [
        "* ### Since the graph is not linear we can conclude that Indegree and PageRank values are not correlated with eachothers in case of citation network."
      ],
      "metadata": {
        "id": "V2Fabi8609hs"
      }
    },
    {
      "cell_type": "code",
      "source": [],
      "metadata": {
        "id": "wKmDWOpfz6iP"
      },
      "execution_count": null,
      "outputs": []
    }
  ]
}